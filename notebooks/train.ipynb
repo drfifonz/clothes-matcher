{
 "cells": [
  {
   "cell_type": "code",
   "execution_count": 12,
   "metadata": {},
   "outputs": [],
   "source": [
    "import os\n",
    "import sys\n",
    "import time\n",
    "\n",
    "import torch\n",
    "import torch.nn as nn\n",
    "\n",
    "from torch.utils.data import DataLoader\n",
    "from torchvision.models import resnet50\n",
    "from tqdm import tqdm\n",
    "\n",
    "sys.path.append(\"../src\")"
   ]
  },
  {
   "cell_type": "code",
   "execution_count": 13,
   "metadata": {},
   "outputs": [],
   "source": [
    "import utils.config as cfg\n",
    "from models.detection_model import BboxDetectionModel\n",
    "from datasets.landmark_dataset import LandmarkDataset\n",
    "from utils.models_utils import ModelUtils, TrainTransforms"
   ]
  },
  {
   "cell_type": "markdown",
   "metadata": {},
   "source": [
    "Mean and std values are specified for ImageNet deviation. *temp solution*, needs to be determined for DeepFashion dataset"
   ]
  },
  {
   "cell_type": "code",
   "execution_count": 14,
   "metadata": {},
   "outputs": [],
   "source": [
    "#MEAN, STD and RESIZE_SIZE declaration\n",
    "MEAN = [0.485, 0.456, 0.406]\n",
    "STD = [0.229, 0.224, 0.225]\n",
    "RESIZE_SIZE =(400,300)\n",
    "BBOX_WEIGHT = 1.0\n",
    "LABEL_WEIGHT = 1.0"
   ]
  },
  {
   "cell_type": "code",
   "execution_count": 15,
   "metadata": {},
   "outputs": [],
   "source": [
    "INITIAL_LR = 1e-4\n",
    "NUM_EPOCHS = 20\n",
    "BATCH_SIZE = 16"
   ]
  },
  {
   "cell_type": "markdown",
   "metadata": {},
   "source": [
    "Memory allocation"
   ]
  },
  {
   "cell_type": "code",
   "execution_count": 16,
   "metadata": {},
   "outputs": [],
   "source": [
    "DEVICE = \"cuda\" if torch.cuda.is_available() else \"cpu\"\n",
    "PIN_MEMORY = True if DEVICE == \"cuda\" else False # to speed up loading data on CPU to training it on GPU\n",
    "# see https://discuss.pytorch.org/t/when-to-set-pin-memory-to-true/19723"
   ]
  },
  {
   "cell_type": "markdown",
   "metadata": {},
   "source": [
    "Loading dataset"
   ]
  },
  {
   "cell_type": "code",
   "execution_count": 17,
   "metadata": {},
   "outputs": [],
   "source": [
    "\n",
    "tf_list = TrainTransforms(mean=MEAN,std=STD,resize_size=RESIZE_SIZE)\n"
   ]
  },
  {
   "cell_type": "code",
   "execution_count": 18,
   "metadata": {},
   "outputs": [],
   "source": [
    "dataset = LandmarkDataset(root=\"../\"+cfg.LANDMARK_DATASET_PATH, runing_mode=\"train\",device=\"cpu\",transforms_list=tf_list )\n",
    "train_dataloader = DataLoader(dataset=dataset,batch_size=BATCH_SIZE,num_workers=os.cpu_count())"
   ]
  },
  {
   "cell_type": "code",
   "execution_count": 19,
   "metadata": {},
   "outputs": [
    {
     "name": "stdout",
     "output_type": "stream",
     "text": [
      "\u001b[34m[INFO]\u001b[0;0mloading model with pretrained weigts.\n",
      "\u001b[34m[INFO]\u001b[0;0m Freezing all hiden layers.\n"
     ]
    },
    {
     "name": "stderr",
     "output_type": "stream",
     "text": [
      "/home/filippatyk/anaconda3/envs/clothes/lib/python3.10/site-packages/torchvision/models/_utils.py:208: UserWarning: The parameter 'pretrained' is deprecated since 0.13 and may be removed in the future, please use 'weights' instead.\n",
      "  warnings.warn(\n",
      "/home/filippatyk/anaconda3/envs/clothes/lib/python3.10/site-packages/torchvision/models/_utils.py:223: UserWarning: Arguments other than a weight enum or `None` for 'weights' are deprecated since 0.13 and may be removed in the future. The current behavior is equivalent to passing `weights=ResNet50_Weights.IMAGENET1K_V1`. You can also use `weights=ResNet50_Weights.DEFAULT` to get the most up-to-date weights.\n",
      "  warnings.warn(msg)\n"
     ]
    }
   ],
   "source": [
    "# resnet = resnet50()\n",
    "resnet_utils = ModelUtils()\n",
    "resnet_model =resnet_utils.build_model(model = resnet50,pretrained=True,gradation=False)\n",
    "#creating object dedector\n",
    "\n",
    "#TODO Bbox detection Model class needs to be refilled\n",
    "detector_model =  BboxDetectionModel(resnet_model,3)\n",
    "if torch.cuda.is_available():\n",
    "    detector_model.cuda()"
   ]
  },
  {
   "cell_type": "code",
   "execution_count": 25,
   "metadata": {},
   "outputs": [],
   "source": [
    "#loss funcfion declaration\n",
    "classificator_loss_func  = nn.CrossEntropyLoss().cuda()\n",
    "bbox_loss_func = nn.MSELoss()\n",
    "#optimizer initialization\n",
    "optimizer = torch.optim.Adam(params = detector_model.parameters(),lr=INITIAL_LR)"
   ]
  },
  {
   "cell_type": "code",
   "execution_count": 21,
   "metadata": {},
   "outputs": [],
   "source": [
    "# initialize a dictionary to store training history\n",
    "H = {\"total_train_loss\": [], \"total_val_loss\": [], \"train_class_acc\": [],\n",
    "\t \"val_class_acc\": []}\n",
    "\n"
   ]
  },
  {
   "cell_type": "code",
   "execution_count": 26,
   "metadata": {},
   "outputs": [
    {
     "name": "stdout",
     "output_type": "stream",
     "text": [
      "\u001b[34m[INFO]\u001b[0;0m start training loop...\n"
     ]
    },
    {
     "name": "stderr",
     "output_type": "stream",
     "text": [
      "  0%|          | 0/20 [00:24<?, ?it/s]\n"
     ]
    },
    {
     "ename": "RuntimeError",
     "evalue": "CUDA error: device-side assert triggered\nCUDA kernel errors might be asynchronously reported at some other API call,so the stacktrace below might be incorrect.\nFor debugging consider passing CUDA_LAUNCH_BLOCKING=1.",
     "output_type": "error",
     "traceback": [
      "\u001b[0;31m---------------------------------------------------------------------------\u001b[0m",
      "\u001b[0;31mRuntimeError\u001b[0m                              Traceback (most recent call last)",
      "Cell \u001b[0;32mIn [26], line 16\u001b[0m\n\u001b[1;32m     14\u001b[0m i \u001b[39m=\u001b[39m \u001b[39m0\u001b[39m\n\u001b[1;32m     15\u001b[0m \u001b[39mfor\u001b[39;00m (image,label,bbox) \u001b[39min\u001b[39;00m train_dataloader:\n\u001b[0;32m---> 16\u001b[0m     image \u001b[39m=\u001b[39m image\u001b[39m.\u001b[39;49mto(DEVICE)\n\u001b[1;32m     17\u001b[0m     label \u001b[39m=\u001b[39m label\u001b[39m.\u001b[39mto(DEVICE)\n\u001b[1;32m     18\u001b[0m     bbox  \u001b[39m=\u001b[39m bbox\u001b[39m.\u001b[39mto(DEVICE)\n",
      "\u001b[0;31mRuntimeError\u001b[0m: CUDA error: device-side assert triggered\nCUDA kernel errors might be asynchronously reported at some other API call,so the stacktrace below might be incorrect.\nFor debugging consider passing CUDA_LAUNCH_BLOCKING=1."
     ]
    }
   ],
   "source": [
    "print(f\"{cfg.TERMINAL_INFO} start training loop...\")\n",
    "start_time = time.time()\n",
    "\n",
    "for epoch in tqdm(range(NUM_EPOCHS)):\n",
    "    detector_model.train()\n",
    "    \n",
    "    # initialization losses\n",
    "    total_train_loss = 0\n",
    "    total_valid_loss = 0\n",
    "\n",
    "    # initialization predictions num\n",
    "    train_correct = 0\n",
    "    valid_correct = 0\n",
    "    i = 0\n",
    "    for (image,label,bbox) in train_dataloader:\n",
    "        image = image.to(DEVICE)\n",
    "        label = label.to(DEVICE)\n",
    "        bbox  = bbox.to(DEVICE)\n",
    "\n",
    "        predictions = detector_model(image)\n",
    "        bbox_loss = bbox_loss_func(predictions[0],bbox.float())\n",
    "        classificator_loss = classificator_loss_func(predictions[1],label)\n",
    "\n",
    "        total_loss =  bbox_loss +  classificator_loss\n",
    "\n",
    "        optimizer.zero_grad()\n",
    "        total_loss.backward()\n",
    "        optimizer.step()\n",
    "\n",
    "        total_train_loss += total_loss\n",
    "        train_correct += (predictions[1].argmax(1) == label).type(torch.float).sum().item()\n",
    "        \n",
    "        # print(\"loop done\")\n",
    "        #TODO valid loop\n",
    "        \n",
    "\n",
    "        "
   ]
  }
 ],
 "metadata": {
  "kernelspec": {
   "display_name": "Python 3.10.6 ('clothes')",
   "language": "python",
   "name": "python3"
  },
  "language_info": {
   "codemirror_mode": {
    "name": "ipython",
    "version": 3
   },
   "file_extension": ".py",
   "mimetype": "text/x-python",
   "name": "python",
   "nbconvert_exporter": "python",
   "pygments_lexer": "ipython3",
   "version": "3.10.6"
  },
  "orig_nbformat": 4,
  "vscode": {
   "interpreter": {
    "hash": "f274c8c095462733c3f7a83faf91db0ef80e0f7b602a948f4e07685bf97d9757"
   }
  }
 },
 "nbformat": 4,
 "nbformat_minor": 2
}
